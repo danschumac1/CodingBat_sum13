{
 "cells": [
  {
   "cell_type": "markdown",
   "id": "609db689",
   "metadata": {},
   "source": [
    "# List-2 > sum13"
   ]
  },
  {
   "cell_type": "markdown",
   "id": "9e360fc5",
   "metadata": {},
   "source": [
    "Return the sum of the numbers in the array, returning 0 for an empty array. Except the number 13 is very unlucky, so it does not count and numbers that come immediately after a 13 also do not count.\n",
    "\n",
    "\n",
    "sum13([1, 2, 2, 1]) → 6\n",
    "\n",
    "sum13([1, 1]) → 2\n",
    "\n",
    "sum13([1, 2, 2, 1, 13]) → 6"
   ]
  },
  {
   "cell_type": "code",
   "execution_count": null,
   "id": "a596f7d6",
   "metadata": {},
   "outputs": [],
   "source": [
    "def sum13(nums):\n",
    "  s = 0\n",
    "  \n",
    "  while 13 in nums:\n",
    "    ind = nums.index(13)\n",
    "    del nums[ind:ind+2]\n",
    "  \n",
    "  if len(nums) == 0:\n",
    "    return 0\n",
    "  \n",
    "  else:\n",
    "    return sum(nums)"
   ]
  }
 ],
 "metadata": {
  "kernelspec": {
   "display_name": "Python 3 (ipykernel)",
   "language": "python",
   "name": "python3"
  },
  "language_info": {
   "codemirror_mode": {
    "name": "ipython",
    "version": 3
   },
   "file_extension": ".py",
   "mimetype": "text/x-python",
   "name": "python",
   "nbconvert_exporter": "python",
   "pygments_lexer": "ipython3",
   "version": "3.9.12"
  }
 },
 "nbformat": 4,
 "nbformat_minor": 5
}
